{
 "cells": [
  {
   "cell_type": "markdown",
   "id": "b09942bd",
   "metadata": {
    "papermill": {
     "duration": 0.008414,
     "end_time": "2023-03-19T08:06:41.691865",
     "exception": false,
     "start_time": "2023-03-19T08:06:41.683451",
     "status": "completed"
    },
    "tags": []
   },
   "source": [
    "# Kural Tabanlı Sınıflandırma - Persona (Level Based Classification)"
   ]
  },
  {
   "cell_type": "markdown",
   "id": "986685a3",
   "metadata": {
    "papermill": {
     "duration": 0.00695,
     "end_time": "2023-03-19T08:06:41.705755",
     "exception": false,
     "start_time": "2023-03-19T08:06:41.698805",
     "status": "completed"
    },
    "tags": []
   },
   "source": [
    "**Problem:**\n",
    "* Bir oyun şirketi seviye tabanlı yeni müşteri tanımları oluşturmak istemektedir.\n",
    "* Bu segmentlere göre yeni müşterilerden ne kadar kazanabileceğini öğrenmek istiyor.\n",
    "\n",
    "**Veri Seti:**\n",
    "* Her satış bir kayıt olarak tutulmaktadır.\n",
    "* price: müşterinin harcama tutarı\n",
    "* source: müşterinin bağlandığı cihaz türü\n",
    "* sex: müşterinin cinsiyeti\n",
    "* country: müşterinin ülkesi\n",
    "* age: müşterinin yaşı"
   ]
  },
  {
   "cell_type": "markdown",
   "id": "05e7bed9",
   "metadata": {
    "papermill": {
     "duration": 0.006427,
     "end_time": "2023-03-19T08:06:41.718966",
     "exception": false,
     "start_time": "2023-03-19T08:06:41.712539",
     "status": "completed"
    },
    "tags": []
   },
   "source": [
    "Proje ile ilgili Medium'daki yazım: https://medium.com/@sanlian/kural-tabanlı-sınıflandırma-potansiyel-müşteri-getiri-tahminleme-71a333aacae1"
   ]
  },
  {
   "cell_type": "markdown",
   "id": "413adf67",
   "metadata": {
    "papermill": {
     "duration": 0.006289,
     "end_time": "2023-03-19T08:06:41.732015",
     "exception": false,
     "start_time": "2023-03-19T08:06:41.725726",
     "status": "completed"
    },
    "tags": []
   },
   "source": [
    "## Kütüphaneler ve Verisetinin Tanınması"
   ]
  },
  {
   "cell_type": "code",
   "execution_count": 1,
   "id": "e8cefca8",
   "metadata": {
    "execution": {
     "iopub.execute_input": "2023-03-19T08:06:41.747836Z",
     "iopub.status.busy": "2023-03-19T08:06:41.747269Z",
     "iopub.status.idle": "2023-03-19T08:06:43.213558Z",
     "shell.execute_reply": "2023-03-19T08:06:43.212047Z"
    },
    "papermill": {
     "duration": 1.47818,
     "end_time": "2023-03-19T08:06:43.216790",
     "exception": false,
     "start_time": "2023-03-19T08:06:41.738610",
     "status": "completed"
    },
    "tags": []
   },
   "outputs": [],
   "source": [
    "# Verisetinin okunması ve işlemlerin yapılması için kullanılacak Pandas, Seaborn, Matplotlib kütüphanelerinin eklenmesi\n",
    "import pandas as pd\n",
    "import seaborn as sns\n",
    "import matplotlib.pyplot as plt\n",
    "\n",
    "# Verisetinin okunması\n",
    "persona_df = pd.read_csv(\"/kaggle/input/persona-dataset/persona.csv\")"
   ]
  },
  {
   "cell_type": "code",
   "execution_count": 2,
   "id": "c45fec01",
   "metadata": {
    "execution": {
     "iopub.execute_input": "2023-03-19T08:06:43.233076Z",
     "iopub.status.busy": "2023-03-19T08:06:43.232635Z",
     "iopub.status.idle": "2023-03-19T08:06:43.265308Z",
     "shell.execute_reply": "2023-03-19T08:06:43.263606Z"
    },
    "papermill": {
     "duration": 0.044812,
     "end_time": "2023-03-19T08:06:43.268660",
     "exception": false,
     "start_time": "2023-03-19T08:06:43.223848",
     "status": "completed"
    },
    "tags": []
   },
   "outputs": [
    {
     "data": {
      "text/html": [
       "<div>\n",
       "<style scoped>\n",
       "    .dataframe tbody tr th:only-of-type {\n",
       "        vertical-align: middle;\n",
       "    }\n",
       "\n",
       "    .dataframe tbody tr th {\n",
       "        vertical-align: top;\n",
       "    }\n",
       "\n",
       "    .dataframe thead th {\n",
       "        text-align: right;\n",
       "    }\n",
       "</style>\n",
       "<table border=\"1\" class=\"dataframe\">\n",
       "  <thead>\n",
       "    <tr style=\"text-align: right;\">\n",
       "      <th></th>\n",
       "      <th>PRICE</th>\n",
       "      <th>SOURCE</th>\n",
       "      <th>SEX</th>\n",
       "      <th>COUNTRY</th>\n",
       "      <th>AGE</th>\n",
       "    </tr>\n",
       "  </thead>\n",
       "  <tbody>\n",
       "    <tr>\n",
       "      <th>0</th>\n",
       "      <td>39</td>\n",
       "      <td>android</td>\n",
       "      <td>male</td>\n",
       "      <td>bra</td>\n",
       "      <td>17</td>\n",
       "    </tr>\n",
       "    <tr>\n",
       "      <th>1</th>\n",
       "      <td>39</td>\n",
       "      <td>android</td>\n",
       "      <td>male</td>\n",
       "      <td>bra</td>\n",
       "      <td>17</td>\n",
       "    </tr>\n",
       "    <tr>\n",
       "      <th>2</th>\n",
       "      <td>49</td>\n",
       "      <td>android</td>\n",
       "      <td>male</td>\n",
       "      <td>bra</td>\n",
       "      <td>17</td>\n",
       "    </tr>\n",
       "    <tr>\n",
       "      <th>3</th>\n",
       "      <td>29</td>\n",
       "      <td>android</td>\n",
       "      <td>male</td>\n",
       "      <td>tur</td>\n",
       "      <td>17</td>\n",
       "    </tr>\n",
       "    <tr>\n",
       "      <th>4</th>\n",
       "      <td>49</td>\n",
       "      <td>android</td>\n",
       "      <td>male</td>\n",
       "      <td>tur</td>\n",
       "      <td>17</td>\n",
       "    </tr>\n",
       "  </tbody>\n",
       "</table>\n",
       "</div>"
      ],
      "text/plain": [
       "   PRICE   SOURCE   SEX COUNTRY  AGE\n",
       "0     39  android  male     bra   17\n",
       "1     39  android  male     bra   17\n",
       "2     49  android  male     bra   17\n",
       "3     29  android  male     tur   17\n",
       "4     49  android  male     tur   17"
      ]
     },
     "execution_count": 2,
     "metadata": {},
     "output_type": "execute_result"
    }
   ],
   "source": [
    "# Verisetinin ilk 5 gözlemini görmek\n",
    "persona_df.head()"
   ]
  },
  {
   "cell_type": "markdown",
   "id": "175bf3a2",
   "metadata": {
    "papermill": {
     "duration": 0.006916,
     "end_time": "2023-03-19T08:06:43.282887",
     "exception": false,
     "start_time": "2023-03-19T08:06:43.275971",
     "status": "completed"
    },
    "tags": []
   },
   "source": [
    "## Keşifsel Veri Analizi"
   ]
  },
  {
   "cell_type": "code",
   "execution_count": 3,
   "id": "8b5b12cd",
   "metadata": {
    "execution": {
     "iopub.execute_input": "2023-03-19T08:06:43.299939Z",
     "iopub.status.busy": "2023-03-19T08:06:43.299422Z",
     "iopub.status.idle": "2023-03-19T08:06:43.329248Z",
     "shell.execute_reply": "2023-03-19T08:06:43.327606Z"
    },
    "papermill": {
     "duration": 0.043282,
     "end_time": "2023-03-19T08:06:43.333365",
     "exception": false,
     "start_time": "2023-03-19T08:06:43.290083",
     "status": "completed"
    },
    "tags": []
   },
   "outputs": [
    {
     "name": "stdout",
     "output_type": "stream",
     "text": [
      "<class 'pandas.core.frame.DataFrame'>\n",
      "Int64Index: 5000 entries, 0 to 4999\n",
      "Data columns (total 5 columns):\n",
      " #   Column   Non-Null Count  Dtype \n",
      "---  ------   --------------  ----- \n",
      " 0   PRICE    5000 non-null   int64 \n",
      " 1   SOURCE   5000 non-null   object\n",
      " 2   SEX      5000 non-null   object\n",
      " 3   COUNTRY  5000 non-null   object\n",
      " 4   AGE      5000 non-null   int64 \n",
      "dtypes: int64(2), object(3)\n",
      "memory usage: 234.4+ KB\n"
     ]
    }
   ],
   "source": [
    "# Verisetine genel bakış\n",
    "persona_df.info()"
   ]
  },
  {
   "cell_type": "code",
   "execution_count": 4,
   "id": "d34d5218",
   "metadata": {
    "execution": {
     "iopub.execute_input": "2023-03-19T08:06:43.352276Z",
     "iopub.status.busy": "2023-03-19T08:06:43.351787Z",
     "iopub.status.idle": "2023-03-19T08:06:43.386317Z",
     "shell.execute_reply": "2023-03-19T08:06:43.384932Z"
    },
    "papermill": {
     "duration": 0.048491,
     "end_time": "2023-03-19T08:06:43.390322",
     "exception": false,
     "start_time": "2023-03-19T08:06:43.341831",
     "status": "completed"
    },
    "tags": []
   },
   "outputs": [
    {
     "data": {
      "text/html": [
       "<div>\n",
       "<style scoped>\n",
       "    .dataframe tbody tr th:only-of-type {\n",
       "        vertical-align: middle;\n",
       "    }\n",
       "\n",
       "    .dataframe tbody tr th {\n",
       "        vertical-align: top;\n",
       "    }\n",
       "\n",
       "    .dataframe thead th {\n",
       "        text-align: right;\n",
       "    }\n",
       "</style>\n",
       "<table border=\"1\" class=\"dataframe\">\n",
       "  <thead>\n",
       "    <tr style=\"text-align: right;\">\n",
       "      <th></th>\n",
       "      <th>count</th>\n",
       "      <th>mean</th>\n",
       "      <th>std</th>\n",
       "      <th>min</th>\n",
       "      <th>25%</th>\n",
       "      <th>50%</th>\n",
       "      <th>75%</th>\n",
       "      <th>max</th>\n",
       "    </tr>\n",
       "  </thead>\n",
       "  <tbody>\n",
       "    <tr>\n",
       "      <th>PRICE</th>\n",
       "      <td>5000.0</td>\n",
       "      <td>34.1320</td>\n",
       "      <td>12.464897</td>\n",
       "      <td>9.0</td>\n",
       "      <td>29.0</td>\n",
       "      <td>39.0</td>\n",
       "      <td>39.0</td>\n",
       "      <td>59.0</td>\n",
       "    </tr>\n",
       "    <tr>\n",
       "      <th>AGE</th>\n",
       "      <td>5000.0</td>\n",
       "      <td>23.5814</td>\n",
       "      <td>8.995908</td>\n",
       "      <td>15.0</td>\n",
       "      <td>17.0</td>\n",
       "      <td>21.0</td>\n",
       "      <td>27.0</td>\n",
       "      <td>66.0</td>\n",
       "    </tr>\n",
       "  </tbody>\n",
       "</table>\n",
       "</div>"
      ],
      "text/plain": [
       "        count     mean        std   min   25%   50%   75%   max\n",
       "PRICE  5000.0  34.1320  12.464897   9.0  29.0  39.0  39.0  59.0\n",
       "AGE    5000.0  23.5814   8.995908  15.0  17.0  21.0  27.0  66.0"
      ]
     },
     "execution_count": 4,
     "metadata": {},
     "output_type": "execute_result"
    }
   ],
   "source": [
    "# Numerik değişkenlerin temel istatistikleri\n",
    "persona_df.describe().T"
   ]
  },
  {
   "cell_type": "code",
   "execution_count": 5,
   "id": "b158835b",
   "metadata": {
    "execution": {
     "iopub.execute_input": "2023-03-19T08:06:43.408466Z",
     "iopub.status.busy": "2023-03-19T08:06:43.407974Z",
     "iopub.status.idle": "2023-03-19T08:06:43.420767Z",
     "shell.execute_reply": "2023-03-19T08:06:43.418853Z"
    },
    "papermill": {
     "duration": 0.026141,
     "end_time": "2023-03-19T08:06:43.424106",
     "exception": false,
     "start_time": "2023-03-19T08:06:43.397965",
     "status": "completed"
    },
    "tags": []
   },
   "outputs": [
    {
     "name": "stdout",
     "output_type": "stream",
     "text": [
      "fiyatlar: [39 49 29 19 59  9]\n",
      "platformlar: ['android' 'ios']\n",
      "cinsiyetler: ['male' 'female']\n",
      "ülkeler: ['bra' 'tur' 'usa' 'can' 'deu' 'fra']\n",
      "yaşlar: [17 26 23 15 19 21 16 35 42 40 49 34 18 32 25 30 20 22 50 37 24 31 28 66\n",
      " 27 47 57 52 39 59 46 36 29 51 55 53 33 43 38 56 54 41 44 45 65 61]\n"
     ]
    }
   ],
   "source": [
    "# Tekil değerleri bulmak\n",
    "print(\"fiyatlar:\", persona_df[\"PRICE\"].unique())\n",
    "print(\"platformlar:\", persona_df[\"SOURCE\"].unique())\n",
    "print(\"cinsiyetler:\", persona_df[\"SEX\"].unique())\n",
    "print(\"ülkeler:\", persona_df[\"COUNTRY\"].unique())\n",
    "print(\"yaşlar:\", persona_df[\"AGE\"].unique())"
   ]
  },
  {
   "cell_type": "code",
   "execution_count": 6,
   "id": "88c4dcb1",
   "metadata": {
    "execution": {
     "iopub.execute_input": "2023-03-19T08:06:43.442070Z",
     "iopub.status.busy": "2023-03-19T08:06:43.441648Z",
     "iopub.status.idle": "2023-03-19T08:06:43.928328Z",
     "shell.execute_reply": "2023-03-19T08:06:43.927076Z"
    },
    "papermill": {
     "duration": 0.499173,
     "end_time": "2023-03-19T08:06:43.931073",
     "exception": false,
     "start_time": "2023-03-19T08:06:43.431900",
     "status": "completed"
    },
    "tags": []
   },
   "outputs": [
    {
     "data": {
      "image/png": "[encoded data removed]",
      "text/plain": [
       "<Figure size 640x480 with 2 Axes>"
      ]
     },
     "metadata": {},
     "output_type": "display_data"
    }
   ],
   "source": [
    "# Yaş ve Fiyat dağılımlarının incelenmesi\n",
    "fig, ax = plt.subplots(1, 2)\n",
    "persona_df.hist(\"AGE\", bins = 20, grid=False, color='#86bf91', ax = ax[0])\n",
    "persona_df.hist(\"PRICE\", grid=False, color='#FFCF56', ax = ax[1]);"
   ]
  },
  {
   "cell_type": "code",
   "execution_count": 7,
   "id": "a400a97b",
   "metadata": {
    "execution": {
     "iopub.execute_input": "2023-03-19T08:06:43.948877Z",
     "iopub.status.busy": "2023-03-19T08:06:43.948436Z",
     "iopub.status.idle": "2023-03-19T08:06:44.684129Z",
     "shell.execute_reply": "2023-03-19T08:06:44.682841Z"
    },
    "papermill": {
     "duration": 0.748263,
     "end_time": "2023-03-19T08:06:44.687038",
     "exception": false,
     "start_time": "2023-03-19T08:06:43.938775",
     "status": "completed"
    },
    "tags": []
   },
   "outputs": [
    {
     "data": {
      "image/png": "[encoded data removed]",
      "text/plain": [
       "<Figure size 1400x500 with 3 Axes>"
      ]
     },
     "metadata": {},
     "output_type": "display_data"
    }
   ],
   "source": [
    "# Ülke-Cinsiyet, Ülke-Platform, Platform-Cinsiyet kırılımlarının incelenmesi\n",
    "sns.set(rc={'figure.figsize':(14,5)})\n",
    "fig, ax = plt.subplots(1, 3)\n",
    "sns.countplot(x = \"COUNTRY\", hue = \"SEX\", data = persona_df, palette= \"cubehelix\", ax = ax[0])\n",
    "sns.countplot(x = \"COUNTRY\", hue = \"SOURCE\", data = persona_df, palette= \"dark:salmon_r\", ax = ax[1])\n",
    "sns.countplot(x = \"SOURCE\", hue = \"SEX\", data = persona_df, palette= \"rocket\", ax = ax[2]);"
   ]
  },
  {
   "cell_type": "code",
   "execution_count": 8,
   "id": "fd4cc0a7",
   "metadata": {
    "execution": {
     "iopub.execute_input": "2023-03-19T08:06:44.706219Z",
     "iopub.status.busy": "2023-03-19T08:06:44.705812Z",
     "iopub.status.idle": "2023-03-19T08:06:44.729265Z",
     "shell.execute_reply": "2023-03-19T08:06:44.727713Z"
    },
    "papermill": {
     "duration": 0.036409,
     "end_time": "2023-03-19T08:06:44.732103",
     "exception": false,
     "start_time": "2023-03-19T08:06:44.695694",
     "status": "completed"
    },
    "tags": []
   },
   "outputs": [
    {
     "data": {
      "text/html": [
       "<div>\n",
       "<style scoped>\n",
       "    .dataframe tbody tr th:only-of-type {\n",
       "        vertical-align: middle;\n",
       "    }\n",
       "\n",
       "    .dataframe tbody tr th {\n",
       "        vertical-align: top;\n",
       "    }\n",
       "\n",
       "    .dataframe thead tr th {\n",
       "        text-align: left;\n",
       "    }\n",
       "\n",
       "    .dataframe thead tr:last-of-type th {\n",
       "        text-align: right;\n",
       "    }\n",
       "</style>\n",
       "<table border=\"1\" class=\"dataframe\">\n",
       "  <thead>\n",
       "    <tr>\n",
       "      <th></th>\n",
       "      <th colspan=\"3\" halign=\"left\">PRICE</th>\n",
       "    </tr>\n",
       "    <tr>\n",
       "      <th></th>\n",
       "      <th>sum</th>\n",
       "      <th>count</th>\n",
       "      <th>mean</th>\n",
       "    </tr>\n",
       "    <tr>\n",
       "      <th>COUNTRY</th>\n",
       "      <th></th>\n",
       "      <th></th>\n",
       "      <th></th>\n",
       "    </tr>\n",
       "  </thead>\n",
       "  <tbody>\n",
       "    <tr>\n",
       "      <th>bra</th>\n",
       "      <td>51354</td>\n",
       "      <td>1496</td>\n",
       "      <td>34.327540</td>\n",
       "    </tr>\n",
       "    <tr>\n",
       "      <th>can</th>\n",
       "      <td>7730</td>\n",
       "      <td>230</td>\n",
       "      <td>33.608696</td>\n",
       "    </tr>\n",
       "    <tr>\n",
       "      <th>deu</th>\n",
       "      <td>15485</td>\n",
       "      <td>455</td>\n",
       "      <td>34.032967</td>\n",
       "    </tr>\n",
       "    <tr>\n",
       "      <th>fra</th>\n",
       "      <td>10177</td>\n",
       "      <td>303</td>\n",
       "      <td>33.587459</td>\n",
       "    </tr>\n",
       "    <tr>\n",
       "      <th>tur</th>\n",
       "      <td>15689</td>\n",
       "      <td>451</td>\n",
       "      <td>34.787140</td>\n",
       "    </tr>\n",
       "    <tr>\n",
       "      <th>usa</th>\n",
       "      <td>70225</td>\n",
       "      <td>2065</td>\n",
       "      <td>34.007264</td>\n",
       "    </tr>\n",
       "  </tbody>\n",
       "</table>\n",
       "</div>"
      ],
      "text/plain": [
       "         PRICE                 \n",
       "           sum count       mean\n",
       "COUNTRY                        \n",
       "bra      51354  1496  34.327540\n",
       "can       7730   230  33.608696\n",
       "deu      15485   455  34.032967\n",
       "fra      10177   303  33.587459\n",
       "tur      15689   451  34.787140\n",
       "usa      70225  2065  34.007264"
      ]
     },
     "execution_count": 8,
     "metadata": {},
     "output_type": "execute_result"
    }
   ],
   "source": [
    "# Ülkelere Göre Ortalama ve Toplam Kazanç\n",
    "persona_df.groupby(\"COUNTRY\").agg({\"PRICE\": [\"sum\", \"count\", \"mean\"]})"
   ]
  },
  {
   "cell_type": "code",
   "execution_count": 9,
   "id": "283543f3",
   "metadata": {
    "execution": {
     "iopub.execute_input": "2023-03-19T08:06:44.752383Z",
     "iopub.status.busy": "2023-03-19T08:06:44.751974Z",
     "iopub.status.idle": "2023-03-19T08:06:44.771554Z",
     "shell.execute_reply": "2023-03-19T08:06:44.769970Z"
    },
    "papermill": {
     "duration": 0.033034,
     "end_time": "2023-03-19T08:06:44.774323",
     "exception": false,
     "start_time": "2023-03-19T08:06:44.741289",
     "status": "completed"
    },
    "tags": []
   },
   "outputs": [
    {
     "data": {
      "text/html": [
       "<div>\n",
       "<style scoped>\n",
       "    .dataframe tbody tr th:only-of-type {\n",
       "        vertical-align: middle;\n",
       "    }\n",
       "\n",
       "    .dataframe tbody tr th {\n",
       "        vertical-align: top;\n",
       "    }\n",
       "\n",
       "    .dataframe thead tr th {\n",
       "        text-align: left;\n",
       "    }\n",
       "\n",
       "    .dataframe thead tr:last-of-type th {\n",
       "        text-align: right;\n",
       "    }\n",
       "</style>\n",
       "<table border=\"1\" class=\"dataframe\">\n",
       "  <thead>\n",
       "    <tr>\n",
       "      <th></th>\n",
       "      <th colspan=\"3\" halign=\"left\">PRICE</th>\n",
       "    </tr>\n",
       "    <tr>\n",
       "      <th></th>\n",
       "      <th>sum</th>\n",
       "      <th>count</th>\n",
       "      <th>mean</th>\n",
       "    </tr>\n",
       "    <tr>\n",
       "      <th>SOURCE</th>\n",
       "      <th></th>\n",
       "      <th></th>\n",
       "      <th></th>\n",
       "    </tr>\n",
       "  </thead>\n",
       "  <tbody>\n",
       "    <tr>\n",
       "      <th>android</th>\n",
       "      <td>101636</td>\n",
       "      <td>2974</td>\n",
       "      <td>34.174849</td>\n",
       "    </tr>\n",
       "    <tr>\n",
       "      <th>ios</th>\n",
       "      <td>69024</td>\n",
       "      <td>2026</td>\n",
       "      <td>34.069102</td>\n",
       "    </tr>\n",
       "  </tbody>\n",
       "</table>\n",
       "</div>"
      ],
      "text/plain": [
       "          PRICE                 \n",
       "            sum count       mean\n",
       "SOURCE                          \n",
       "android  101636  2974  34.174849\n",
       "ios       69024  2026  34.069102"
      ]
     },
     "execution_count": 9,
     "metadata": {},
     "output_type": "execute_result"
    }
   ],
   "source": [
    "# Platforma Göre Ortalama ve Toplam Kazanç\n",
    "persona_df.groupby(\"SOURCE\").agg({\"PRICE\": [\"sum\", \"count\", \"mean\"]})"
   ]
  },
  {
   "cell_type": "code",
   "execution_count": 10,
   "id": "c819966e",
   "metadata": {
    "execution": {
     "iopub.execute_input": "2023-03-19T08:06:44.794293Z",
     "iopub.status.busy": "2023-03-19T08:06:44.793860Z",
     "iopub.status.idle": "2023-03-19T08:06:44.814858Z",
     "shell.execute_reply": "2023-03-19T08:06:44.813462Z"
    },
    "papermill": {
     "duration": 0.03473,
     "end_time": "2023-03-19T08:06:44.818114",
     "exception": false,
     "start_time": "2023-03-19T08:06:44.783384",
     "status": "completed"
    },
    "tags": []
   },
   "outputs": [
    {
     "data": {
      "text/html": [
       "<div>\n",
       "<style scoped>\n",
       "    .dataframe tbody tr th:only-of-type {\n",
       "        vertical-align: middle;\n",
       "    }\n",
       "\n",
       "    .dataframe tbody tr th {\n",
       "        vertical-align: top;\n",
       "    }\n",
       "\n",
       "    .dataframe thead tr th {\n",
       "        text-align: left;\n",
       "    }\n",
       "\n",
       "    .dataframe thead tr:last-of-type th {\n",
       "        text-align: right;\n",
       "    }\n",
       "</style>\n",
       "<table border=\"1\" class=\"dataframe\">\n",
       "  <thead>\n",
       "    <tr>\n",
       "      <th></th>\n",
       "      <th colspan=\"3\" halign=\"left\">PRICE</th>\n",
       "    </tr>\n",
       "    <tr>\n",
       "      <th></th>\n",
       "      <th>sum</th>\n",
       "      <th>count</th>\n",
       "      <th>mean</th>\n",
       "    </tr>\n",
       "    <tr>\n",
       "      <th>SEX</th>\n",
       "      <th></th>\n",
       "      <th></th>\n",
       "      <th></th>\n",
       "    </tr>\n",
       "  </thead>\n",
       "  <tbody>\n",
       "    <tr>\n",
       "      <th>female</th>\n",
       "      <td>88989</td>\n",
       "      <td>2621</td>\n",
       "      <td>33.952308</td>\n",
       "    </tr>\n",
       "    <tr>\n",
       "      <th>male</th>\n",
       "      <td>81671</td>\n",
       "      <td>2379</td>\n",
       "      <td>34.329971</td>\n",
       "    </tr>\n",
       "  </tbody>\n",
       "</table>\n",
       "</div>"
      ],
      "text/plain": [
       "        PRICE                 \n",
       "          sum count       mean\n",
       "SEX                           \n",
       "female  88989  2621  33.952308\n",
       "male    81671  2379  34.329971"
      ]
     },
     "execution_count": 10,
     "metadata": {},
     "output_type": "execute_result"
    }
   ],
   "source": [
    "# Cinsiyete Göre Ortalama ve Toplam Kazanç\n",
    "persona_df.groupby(\"SEX\").agg({\"PRICE\": [\"sum\", \"count\", \"mean\"]})"
   ]
  },
  {
   "cell_type": "markdown",
   "id": "0ca0de90",
   "metadata": {
    "papermill": {
     "duration": 0.008962,
     "end_time": "2023-03-19T08:06:44.836282",
     "exception": false,
     "start_time": "2023-03-19T08:06:44.827320",
     "status": "completed"
    },
    "tags": []
   },
   "source": [
    "## Verisetini Ön İşleme"
   ]
  },
  {
   "cell_type": "code",
   "execution_count": 11,
   "id": "75afac8d",
   "metadata": {
    "execution": {
     "iopub.execute_input": "2023-03-19T08:06:44.856771Z",
     "iopub.status.busy": "2023-03-19T08:06:44.856285Z",
     "iopub.status.idle": "2023-03-19T08:06:44.881534Z",
     "shell.execute_reply": "2023-03-19T08:06:44.879944Z"
    },
    "papermill": {
     "duration": 0.039058,
     "end_time": "2023-03-19T08:06:44.884544",
     "exception": false,
     "start_time": "2023-03-19T08:06:44.845486",
     "status": "completed"
    },
    "tags": []
   },
   "outputs": [
    {
     "data": {
      "text/html": [
       "<div>\n",
       "<style scoped>\n",
       "    .dataframe tbody tr th:only-of-type {\n",
       "        vertical-align: middle;\n",
       "    }\n",
       "\n",
       "    .dataframe tbody tr th {\n",
       "        vertical-align: top;\n",
       "    }\n",
       "\n",
       "    .dataframe thead th {\n",
       "        text-align: right;\n",
       "    }\n",
       "</style>\n",
       "<table border=\"1\" class=\"dataframe\">\n",
       "  <thead>\n",
       "    <tr style=\"text-align: right;\">\n",
       "      <th></th>\n",
       "      <th>COUNTRY</th>\n",
       "      <th>SOURCE</th>\n",
       "      <th>SEX</th>\n",
       "      <th>AGE</th>\n",
       "      <th>PRICE</th>\n",
       "    </tr>\n",
       "  </thead>\n",
       "  <tbody>\n",
       "    <tr>\n",
       "      <th>0</th>\n",
       "      <td>bra</td>\n",
       "      <td>android</td>\n",
       "      <td>male</td>\n",
       "      <td>46</td>\n",
       "      <td>59.0</td>\n",
       "    </tr>\n",
       "    <tr>\n",
       "      <th>1</th>\n",
       "      <td>usa</td>\n",
       "      <td>android</td>\n",
       "      <td>male</td>\n",
       "      <td>36</td>\n",
       "      <td>59.0</td>\n",
       "    </tr>\n",
       "    <tr>\n",
       "      <th>2</th>\n",
       "      <td>fra</td>\n",
       "      <td>android</td>\n",
       "      <td>female</td>\n",
       "      <td>24</td>\n",
       "      <td>59.0</td>\n",
       "    </tr>\n",
       "    <tr>\n",
       "      <th>3</th>\n",
       "      <td>usa</td>\n",
       "      <td>ios</td>\n",
       "      <td>male</td>\n",
       "      <td>32</td>\n",
       "      <td>54.0</td>\n",
       "    </tr>\n",
       "    <tr>\n",
       "      <th>4</th>\n",
       "      <td>deu</td>\n",
       "      <td>android</td>\n",
       "      <td>female</td>\n",
       "      <td>36</td>\n",
       "      <td>49.0</td>\n",
       "    </tr>\n",
       "  </tbody>\n",
       "</table>\n",
       "</div>"
      ],
      "text/plain": [
       "  COUNTRY   SOURCE     SEX  AGE  PRICE\n",
       "0     bra  android    male   46   59.0\n",
       "1     usa  android    male   36   59.0\n",
       "2     fra  android  female   24   59.0\n",
       "3     usa      ios    male   32   54.0\n",
       "4     deu  android  female   36   49.0"
      ]
     },
     "execution_count": 11,
     "metadata": {},
     "output_type": "execute_result"
    }
   ],
   "source": [
    "# Verisetini kategorik değişkenlere göre gruplayıp price'ın ortalamasını almak\n",
    "# Verisetini ortalama price değerlerine göre azalan biçimde sıralamak\n",
    "# Bu işlem sonucundan her bir country-source-sex-age kırılımndan bir tane satır (ortalama) dönecektir\n",
    "persona_df = persona_df.groupby([\"COUNTRY\", \"SOURCE\", \"SEX\", \"AGE\"]).agg({\"PRICE\": \"mean\"}).sort_values(by = [\"PRICE\"], ascending = False).reset_index()\n",
    "\n",
    "persona_df.head()"
   ]
  },
  {
   "cell_type": "code",
   "execution_count": 12,
   "id": "c06a106d",
   "metadata": {
    "execution": {
     "iopub.execute_input": "2023-03-19T08:06:44.906798Z",
     "iopub.status.busy": "2023-03-19T08:06:44.905580Z",
     "iopub.status.idle": "2023-03-19T08:06:44.924984Z",
     "shell.execute_reply": "2023-03-19T08:06:44.923460Z"
    },
    "papermill": {
     "duration": 0.03422,
     "end_time": "2023-03-19T08:06:44.928350",
     "exception": false,
     "start_time": "2023-03-19T08:06:44.894130",
     "status": "completed"
    },
    "tags": []
   },
   "outputs": [],
   "source": [
    "# Age sayısal değişkeninin kategorik değişkene çevrilmesi\n",
    "# Age kategorilendirmesinin belirlenmesi\n",
    "# birinci kategori: geniş aralıklı yaşlar: 0-18, 19-23, 24-30, 31-40, 41-70\n",
    "# ikinci kategori: genç odaklı aralıklar: 0-18, 19-21, 22-24, 25-27, 28-30, 31-35, 36-50, 51-70\n",
    "# üçüncü kategor: 1-1 yaşlar: her yaş 1 kategori\n",
    "\n",
    "wide_range_df = persona_df.copy()\n",
    "wide_range_df[\"AGE_CAT\"] = pd.cut(wide_range_df[\"AGE\"], bins = [0, 18, 23, 30, 40, 70], labels = [\"0_18\", \"19_23\", \"24_30\", \"31_40\", \"41_70\"])\n",
    "\n",
    "young_based_df = persona_df.copy()\n",
    "young_based_df[\"AGE_CAT\"] = pd.cut(young_based_df[\"AGE\"], bins = [0, 18, 21, 24, 27, 30, 35, 50, 70], labels = [\"0_18\", \"19_21\", \"22_24\", \"25_27\", \"28-30\", \"31_35\", \"36_50\", \"51_70\"])\n",
    "\n",
    "one_by_one_df = persona_df.copy()\n",
    "one_by_one_df[\"AGE_CAT\"] = one_by_one_df[\"AGE\"].astype(\"str\")\n",
    "one_by_one_df[\"AGE\"] = one_by_one_df[\"AGE\"].astype(\"str\")"
   ]
  },
  {
   "cell_type": "code",
   "execution_count": null,
   "id": "803083f7",
   "metadata": {
    "papermill": {
     "duration": 0.009274,
     "end_time": "2023-03-19T08:06:44.947083",
     "exception": false,
     "start_time": "2023-03-19T08:06:44.937809",
     "status": "completed"
    },
    "tags": []
   },
   "outputs": [],
   "source": []
  },
  {
   "cell_type": "code",
   "execution_count": 13,
   "id": "eefd80b0",
   "metadata": {
    "execution": {
     "iopub.execute_input": "2023-03-19T08:06:44.968753Z",
     "iopub.status.busy": "2023-03-19T08:06:44.967602Z",
     "iopub.status.idle": "2023-03-19T08:06:45.073561Z",
     "shell.execute_reply": "2023-03-19T08:06:45.072123Z"
    },
    "papermill": {
     "duration": 0.119543,
     "end_time": "2023-03-19T08:06:45.075956",
     "exception": false,
     "start_time": "2023-03-19T08:06:44.956413",
     "status": "completed"
    },
    "tags": []
   },
   "outputs": [
    {
     "data": {
      "text/html": [
       "<div>\n",
       "<style scoped>\n",
       "    .dataframe tbody tr th:only-of-type {\n",
       "        vertical-align: middle;\n",
       "    }\n",
       "\n",
       "    .dataframe tbody tr th {\n",
       "        vertical-align: top;\n",
       "    }\n",
       "\n",
       "    .dataframe thead th {\n",
       "        text-align: right;\n",
       "    }\n",
       "</style>\n",
       "<table border=\"1\" class=\"dataframe\">\n",
       "  <thead>\n",
       "    <tr style=\"text-align: right;\">\n",
       "      <th></th>\n",
       "      <th>CUSTOMERS_LEVEL_BASED</th>\n",
       "      <th>PRICE</th>\n",
       "      <th>SEGMENT</th>\n",
       "    </tr>\n",
       "  </thead>\n",
       "  <tbody>\n",
       "    <tr>\n",
       "      <th>0</th>\n",
       "      <td>BRA_ANDROID_FEMALE_0_18</td>\n",
       "      <td>35.645303</td>\n",
       "      <td>B</td>\n",
       "    </tr>\n",
       "    <tr>\n",
       "      <th>1</th>\n",
       "      <td>BRA_ANDROID_FEMALE_19_23</td>\n",
       "      <td>34.077340</td>\n",
       "      <td>C</td>\n",
       "    </tr>\n",
       "    <tr>\n",
       "      <th>2</th>\n",
       "      <td>BRA_ANDROID_FEMALE_24_30</td>\n",
       "      <td>33.863946</td>\n",
       "      <td>C</td>\n",
       "    </tr>\n",
       "    <tr>\n",
       "      <th>3</th>\n",
       "      <td>BRA_ANDROID_FEMALE_31_40</td>\n",
       "      <td>34.898326</td>\n",
       "      <td>B</td>\n",
       "    </tr>\n",
       "    <tr>\n",
       "      <th>4</th>\n",
       "      <td>BRA_ANDROID_FEMALE_41_70</td>\n",
       "      <td>36.737179</td>\n",
       "      <td>A</td>\n",
       "    </tr>\n",
       "  </tbody>\n",
       "</table>\n",
       "</div>"
      ],
      "text/plain": [
       "      CUSTOMERS_LEVEL_BASED      PRICE SEGMENT\n",
       "0   BRA_ANDROID_FEMALE_0_18  35.645303       B\n",
       "1  BRA_ANDROID_FEMALE_19_23  34.077340       C\n",
       "2  BRA_ANDROID_FEMALE_24_30  33.863946       C\n",
       "3  BRA_ANDROID_FEMALE_31_40  34.898326       B\n",
       "4  BRA_ANDROID_FEMALE_41_70  36.737179       A"
      ]
     },
     "execution_count": 13,
     "metadata": {},
     "output_type": "execute_result"
    }
   ],
   "source": [
    "# Birleştirilecek sütunların listede toplanması\n",
    "joined_columns = [\"COUNTRY\", \"SOURCE\", \"SEX\", \"AGE_CAT\"]\n",
    "\n",
    "# Birleştirme işleminin geniş yaş aralıkları içeren dataframe için uygulanması\n",
    "wide_range_df[\"CUSTOMERS_LEVEL_BASED\"] = wide_range_df[joined_columns].T.agg(\"_\".join).str.upper()\n",
    "wide_range_df = wide_range_df.groupby(\"CUSTOMERS_LEVEL_BASED\").agg({\"PRICE\": \"mean\"})\n",
    "wide_range_df = wide_range_df.reset_index()\n",
    "#segment belirlenmesi\n",
    "wide_range_df[\"SEGMENT\"] = pd.qcut(wide_range_df[\"PRICE\"], 4, labels = [\"D\", \"C\", \"B\", \"A\"])\n",
    "\n",
    "\n",
    "# Birleştirme işlemnin genç odaklı yaş aralıkları içeren dataframe için uygulanması\n",
    "young_based_df[\"CUSTOMERS_LEVEL_BASED\"] = young_based_df[joined_columns].T.agg(\"_\".join).str.upper()\n",
    "young_based_df = young_based_df.groupby(\"CUSTOMERS_LEVEL_BASED\").agg({\"PRICE\": \"mean\"})\n",
    "young_based_df = young_based_df.reset_index()\n",
    "#segment belirlenmesi\n",
    "young_based_df[\"SEGMENT\"] = pd.qcut(young_based_df[\"PRICE\"], 4, labels = [\"D\", \"C\", \"B\", \"A\"])\n",
    "\n",
    "\n",
    "# Birleştirme işlemnin 1e1 yaş aralıkları içeren dataframe için uygulanması\n",
    "one_by_one_df[\"AGE\"] = one_by_one_df[\"AGE\"].astype(\"str\")\n",
    "one_by_one_df[\"CUSTOMERS_LEVEL_BASED\"] = one_by_one_df[[\"COUNTRY\", \"SOURCE\", \"SEX\", \"AGE\"]].T.agg(\"_\".join).str.upper()\n",
    "one_by_one_df = one_by_one_df.groupby(\"CUSTOMERS_LEVEL_BASED\").agg({\"PRICE\": \"mean\"})\n",
    "one_by_one_df = one_by_one_df.reset_index()\n",
    "#segment belirlenmesi\n",
    "one_by_one_df[\"SEGMENT\"] = pd.qcut(one_by_one_df[\"PRICE\"], 4, labels = [\"D\", \"C\", \"B\", \"A\"])\n",
    "\n",
    "#dataframelerin görünümü\n",
    "wide_range_df.head()"
   ]
  },
  {
   "cell_type": "code",
   "execution_count": 14,
   "id": "2477f045",
   "metadata": {
    "execution": {
     "iopub.execute_input": "2023-03-19T08:06:45.097526Z",
     "iopub.status.busy": "2023-03-19T08:06:45.096432Z",
     "iopub.status.idle": "2023-03-19T08:06:45.128375Z",
     "shell.execute_reply": "2023-03-19T08:06:45.126775Z"
    },
    "papermill": {
     "duration": 0.045883,
     "end_time": "2023-03-19T08:06:45.131155",
     "exception": false,
     "start_time": "2023-03-19T08:06:45.085272",
     "status": "completed"
    },
    "tags": []
   },
   "outputs": [
    {
     "data": {
      "text/html": [
       "<div>\n",
       "<style scoped>\n",
       "    .dataframe tbody tr th:only-of-type {\n",
       "        vertical-align: middle;\n",
       "    }\n",
       "\n",
       "    .dataframe tbody tr th {\n",
       "        vertical-align: top;\n",
       "    }\n",
       "\n",
       "    .dataframe thead tr th {\n",
       "        text-align: left;\n",
       "    }\n",
       "\n",
       "    .dataframe thead tr:last-of-type th {\n",
       "        text-align: right;\n",
       "    }\n",
       "</style>\n",
       "<table border=\"1\" class=\"dataframe\">\n",
       "  <thead>\n",
       "    <tr>\n",
       "      <th></th>\n",
       "      <th colspan=\"5\" halign=\"left\">PRICE</th>\n",
       "    </tr>\n",
       "    <tr>\n",
       "      <th></th>\n",
       "      <th>mean</th>\n",
       "      <th>max</th>\n",
       "      <th>min</th>\n",
       "      <th>sum</th>\n",
       "      <th>std</th>\n",
       "    </tr>\n",
       "    <tr>\n",
       "      <th>SEGMENT</th>\n",
       "      <th></th>\n",
       "      <th></th>\n",
       "      <th></th>\n",
       "      <th></th>\n",
       "      <th></th>\n",
       "    </tr>\n",
       "  </thead>\n",
       "  <tbody>\n",
       "    <tr>\n",
       "      <th>D</th>\n",
       "      <td>29.206780</td>\n",
       "      <td>32.333333</td>\n",
       "      <td>19.000000</td>\n",
       "      <td>817.789833</td>\n",
       "      <td>3.638037</td>\n",
       "    </tr>\n",
       "    <tr>\n",
       "      <th>C</th>\n",
       "      <td>33.509674</td>\n",
       "      <td>34.077340</td>\n",
       "      <td>32.500000</td>\n",
       "      <td>904.761209</td>\n",
       "      <td>0.492587</td>\n",
       "    </tr>\n",
       "    <tr>\n",
       "      <th>B</th>\n",
       "      <td>34.999645</td>\n",
       "      <td>36.000000</td>\n",
       "      <td>34.103727</td>\n",
       "      <td>944.990411</td>\n",
       "      <td>0.636502</td>\n",
       "    </tr>\n",
       "    <tr>\n",
       "      <th>A</th>\n",
       "      <td>38.691234</td>\n",
       "      <td>45.428571</td>\n",
       "      <td>36.060606</td>\n",
       "      <td>1044.663328</td>\n",
       "      <td>2.581762</td>\n",
       "    </tr>\n",
       "  </tbody>\n",
       "</table>\n",
       "</div>"
      ],
      "text/plain": [
       "             PRICE                                             \n",
       "              mean        max        min          sum       std\n",
       "SEGMENT                                                        \n",
       "D        29.206780  32.333333  19.000000   817.789833  3.638037\n",
       "C        33.509674  34.077340  32.500000   904.761209  0.492587\n",
       "B        34.999645  36.000000  34.103727   944.990411  0.636502\n",
       "A        38.691234  45.428571  36.060606  1044.663328  2.581762"
      ]
     },
     "execution_count": 14,
     "metadata": {},
     "output_type": "execute_result"
    }
   ],
   "source": [
    "# Segmentlerin örnek gösterimi\n",
    "wide_range_df.groupby(\"SEGMENT\").agg({\"PRICE\": [\"mean\", \"max\", \"min\", \"sum\", \"std\"]})\n",
    "# Diğer dataframeler için;\n",
    "# young_based_df.groupby(\"SEGMENT\").agg({\"PRICE\": [\"mean\", \"max\", \"min\", \"sum\", \"std\"]})\n",
    "# one_by_one_df.groupby(\"SEGMENT\").agg({\"PRICE\": [\"mean\", \"max\", \"min\", \"sum\", \"std\"]})"
   ]
  },
  {
   "cell_type": "markdown",
   "id": "c5b34602",
   "metadata": {
    "papermill": {
     "duration": 0.009381,
     "end_time": "2023-03-19T08:06:45.150532",
     "exception": false,
     "start_time": "2023-03-19T08:06:45.141151",
     "status": "completed"
    },
    "tags": []
   },
   "source": [
    "## Yeni Müşterinin Tahminlemesini Yapma Fonksiyonu\n",
    "* Fonksiyona ihtiyaç duyulmasının sebebi 3 ayrı kategori için bu işlemin yapılacak olması"
   ]
  },
  {
   "cell_type": "code",
   "execution_count": 15,
   "id": "e331a124",
   "metadata": {
    "execution": {
     "iopub.execute_input": "2023-03-19T08:06:45.172817Z",
     "iopub.status.busy": "2023-03-19T08:06:45.172128Z",
     "iopub.status.idle": "2023-03-19T08:06:45.189816Z",
     "shell.execute_reply": "2023-03-19T08:06:45.188167Z"
    },
    "papermill": {
     "duration": 0.032161,
     "end_time": "2023-03-19T08:06:45.192352",
     "exception": false,
     "start_time": "2023-03-19T08:06:45.160191",
     "status": "completed"
    },
    "tags": []
   },
   "outputs": [],
   "source": [
    "#yeni müşterinin tahmini getirisini hesaplama fonksiyonu (3 farklı kategoriden)\n",
    "def expected_price(country, source, sex, age):\n",
    "    \"\"\"\n",
    "    1. girilen age değerini 3 farklı kategoriye göre kategorilendirir,\n",
    "    2. oluşan kategori değerini diğer girdiler ile birleştirerek CUSTOMER_LEVEL_BASED haline getirir\n",
    "    3. oluşan CUSTOMER_LEVEL_BASED değerinin ilgili dataframe'lerde olup olmadığını kontrol eder\n",
    "        3.1 eğer dataframe'lerde varsa bilgileri daha sonra birleştirmek için saklar\n",
    "        3.2 eğer dataframe'lerde yoksa CUSTOMER_LEVEL_BASED değişkeninin yanına \"No Match\" ifadesi getirir, saklar\n",
    "    4. saklanan dataframeler tek çıktı olması için birleştirilir\n",
    "    5. satırlara yeni bir değer eklenerek hangi modele ait olduğunu belirtir\n",
    "    6. sonuç dataframe'ini verir\n",
    "\n",
    "    :param country: ülke kodu giriniz:  USA, BRA, DEU, TUR, FRA, CAN\n",
    "    :param source: platform giriniz: ANDROID, IOS\n",
    "    :param sex: cinsiyet giriniz: FEMALE, MALE\n",
    "    :param age: yaş giriniz: [0, 70]\n",
    "    :return result_df: müşterinin getirisini 3 farklı modelde bulup tek dataframe halinde sunar\n",
    "\n",
    "    :example expected_price(\"TUR\", \"ANDROID\", \"FEMALE\", 65)\n",
    "\n",
    "    :expected output\n",
    "      CUSTOMERS_LEVEL_BASED      PRICE      SEGMENT      Option\n",
    "100   TUR_ANDROID_FEMALE_51_70  32.571429      C     Young_Based_Model\n",
    "73    TUR_ANDROID_FEMALE_41_70  34.119048      B     Wide_Range_Model\n",
    "0     TUR_ANDROID_FEMALE_65     No Match    No Match   One-One_Model\n",
    "\n",
    "    \"\"\"\n",
    "\n",
    "    #farklı yaş aralıklarına göre müşterinin kategorisinin belirlenmesi\n",
    "    if age <= 18:\n",
    "        young_based_age_level = \"0_18\"\n",
    "        wide_age_level = \"0_18\"\n",
    "    elif age <= 21:\n",
    "        young_based_age_level = \"19_21\"\n",
    "        wide_age_level = \"19_23\"\n",
    "    elif age <= 24:\n",
    "        young_based_age_level = \"22_24\"\n",
    "        if age <= 23:\n",
    "            wide_age_level = \"19_23\"\n",
    "    elif age <= 27:\n",
    "        young_based_age_level = \"25_27\"\n",
    "        wide_age_level = \"24_30\"\n",
    "    elif age <= 30:\n",
    "        young_based_age_level = \"28_30\"\n",
    "        wide_age_level = \"24_30\"\n",
    "    elif age <= 35:\n",
    "        young_based_age_level = \"31_35\"\n",
    "        wide_age_level = \"31_40\"\n",
    "    elif age <= 50:\n",
    "        young_based_age_level = \"36_50\"\n",
    "        if age <= 40:\n",
    "            wide_age_level = \"31_40\"\n",
    "        else:\n",
    "            wide_age_level = \"41_70\"\n",
    "    else:\n",
    "        young_based_age_level = \"51_70\"\n",
    "        wide_age_level = \"41_70\"\n",
    "\n",
    "    #yeni müşteri levelinin 3 farklı kategorilendirmeye göre oluşturulması\n",
    "    young_new_customer = country + \"_\" + source + \"_\" + sex + \"_\" + young_based_age_level\n",
    "    wide_new_customer = country + \"_\" + source + \"_\" + sex + \"_\" + wide_age_level\n",
    "    one_new_customer = country + \"_\" + source + \"_\" + sex + \"_\" + str(age)\n",
    "\n",
    "    #yeni müşterinin 3 farklı kategoriden tahmininin çekilmesi\n",
    "    if young_new_customer in young_based_df.values:\n",
    "        df1 = young_based_df[young_based_df[\"CUSTOMERS_LEVEL_BASED\"] == young_new_customer]\n",
    "    else:\n",
    "        df1 = pd.DataFrame([[young_new_customer, \"No Match\", \"No Match\"]], columns = [\"CUSTOMERS_LEVEL_BASED\", \"PRICE\", \"SEGMENT\"])\n",
    "\n",
    "    if wide_new_customer in wide_range_df.values:\n",
    "        df2 = wide_range_df[wide_range_df[\"CUSTOMERS_LEVEL_BASED\"] == wide_new_customer]\n",
    "    else:\n",
    "        df2 = pd.DataFrame([[wide_new_customer, \"No Match\", \"No Match\"]], columns = [\"CUSTOMERS_LEVEL_BASED\", \"PRICE\", \"SEGMENT\"])\n",
    "\n",
    "    if one_new_customer in one_by_one_df.values:\n",
    "        df3 = one_by_one_df[one_by_one_df[\"CUSTOMERS_LEVEL_BASED\"] == one_new_customer]\n",
    "    else:\n",
    "        df3 = pd.DataFrame([[one_new_customer, \"No Match\", \"No Match\"]], columns = [\"CUSTOMERS_LEVEL_BASED\", \"PRICE\", \"SEGMENT\"])\n",
    "\n",
    "    #tahminlerin birleştirilmesi\n",
    "    result_df = pd.concat([df1, df2, df3])\n",
    "    result_df[\"Option\"] = [\"Young_Based_Model\", \"Wide_Range_Model\", \"One-One_Model\"]\n",
    "\n",
    "    #sonuç dataframeinin yazdırılması\n",
    "    return result_df"
   ]
  },
  {
   "cell_type": "markdown",
   "id": "ca0c4a40",
   "metadata": {
    "papermill": {
     "duration": 0.009306,
     "end_time": "2023-03-19T08:06:45.211890",
     "exception": false,
     "start_time": "2023-03-19T08:06:45.202584",
     "status": "completed"
    },
    "tags": []
   },
   "source": [
    "## Tahminlemenin Yapılması"
   ]
  },
  {
   "cell_type": "code",
   "execution_count": 16,
   "id": "c9f5b75b",
   "metadata": {
    "execution": {
     "iopub.execute_input": "2023-03-19T08:06:45.233674Z",
     "iopub.status.busy": "2023-03-19T08:06:45.233172Z",
     "iopub.status.idle": "2023-03-19T08:06:45.255864Z",
     "shell.execute_reply": "2023-03-19T08:06:45.254194Z"
    },
    "papermill": {
     "duration": 0.037802,
     "end_time": "2023-03-19T08:06:45.259259",
     "exception": false,
     "start_time": "2023-03-19T08:06:45.221457",
     "status": "completed"
    },
    "tags": []
   },
   "outputs": [
    {
     "data": {
      "text/html": [
       "<div>\n",
       "<style scoped>\n",
       "    .dataframe tbody tr th:only-of-type {\n",
       "        vertical-align: middle;\n",
       "    }\n",
       "\n",
       "    .dataframe tbody tr th {\n",
       "        vertical-align: top;\n",
       "    }\n",
       "\n",
       "    .dataframe thead th {\n",
       "        text-align: right;\n",
       "    }\n",
       "</style>\n",
       "<table border=\"1\" class=\"dataframe\">\n",
       "  <thead>\n",
       "    <tr style=\"text-align: right;\">\n",
       "      <th></th>\n",
       "      <th>CUSTOMERS_LEVEL_BASED</th>\n",
       "      <th>PRICE</th>\n",
       "      <th>SEGMENT</th>\n",
       "      <th>Option</th>\n",
       "    </tr>\n",
       "  </thead>\n",
       "  <tbody>\n",
       "    <tr>\n",
       "      <th>100</th>\n",
       "      <td>TUR_ANDROID_FEMALE_51_70</td>\n",
       "      <td>32.571429</td>\n",
       "      <td>C</td>\n",
       "      <td>Young_Based_Model</td>\n",
       "    </tr>\n",
       "    <tr>\n",
       "      <th>73</th>\n",
       "      <td>TUR_ANDROID_FEMALE_41_70</td>\n",
       "      <td>34.119048</td>\n",
       "      <td>B</td>\n",
       "      <td>Wide_Range_Model</td>\n",
       "    </tr>\n",
       "    <tr>\n",
       "      <th>0</th>\n",
       "      <td>TUR_ANDROID_FEMALE_65</td>\n",
       "      <td>No Match</td>\n",
       "      <td>No Match</td>\n",
       "      <td>One-One_Model</td>\n",
       "    </tr>\n",
       "  </tbody>\n",
       "</table>\n",
       "</div>"
      ],
      "text/plain": [
       "        CUSTOMERS_LEVEL_BASED      PRICE   SEGMENT             Option\n",
       "100  TUR_ANDROID_FEMALE_51_70  32.571429         C  Young_Based_Model\n",
       "73   TUR_ANDROID_FEMALE_41_70  34.119048         B   Wide_Range_Model\n",
       "0       TUR_ANDROID_FEMALE_65   No Match  No Match      One-One_Model"
      ]
     },
     "execution_count": 16,
     "metadata": {},
     "output_type": "execute_result"
    }
   ],
   "source": [
    "expected_price(\"TUR\", \"ANDROID\", \"FEMALE\", 65)"
   ]
  },
  {
   "cell_type": "code",
   "execution_count": 17,
   "id": "27e5db2d",
   "metadata": {
    "execution": {
     "iopub.execute_input": "2023-03-19T08:06:45.282994Z",
     "iopub.status.busy": "2023-03-19T08:06:45.282416Z",
     "iopub.status.idle": "2023-03-19T08:06:45.304032Z",
     "shell.execute_reply": "2023-03-19T08:06:45.302283Z"
    },
    "papermill": {
     "duration": 0.036639,
     "end_time": "2023-03-19T08:06:45.306555",
     "exception": false,
     "start_time": "2023-03-19T08:06:45.269916",
     "status": "completed"
    },
    "tags": []
   },
   "outputs": [
    {
     "data": {
      "text/html": [
       "<div>\n",
       "<style scoped>\n",
       "    .dataframe tbody tr th:only-of-type {\n",
       "        vertical-align: middle;\n",
       "    }\n",
       "\n",
       "    .dataframe tbody tr th {\n",
       "        vertical-align: top;\n",
       "    }\n",
       "\n",
       "    .dataframe thead th {\n",
       "        text-align: right;\n",
       "    }\n",
       "</style>\n",
       "<table border=\"1\" class=\"dataframe\">\n",
       "  <thead>\n",
       "    <tr style=\"text-align: right;\">\n",
       "      <th></th>\n",
       "      <th>CUSTOMERS_LEVEL_BASED</th>\n",
       "      <th>PRICE</th>\n",
       "      <th>SEGMENT</th>\n",
       "      <th>Option</th>\n",
       "    </tr>\n",
       "  </thead>\n",
       "  <tbody>\n",
       "    <tr>\n",
       "      <th>8</th>\n",
       "      <td>BRA_ANDROID_MALE_0_18</td>\n",
       "      <td>34.805861</td>\n",
       "      <td>B</td>\n",
       "      <td>Young_Based_Model</td>\n",
       "    </tr>\n",
       "    <tr>\n",
       "      <th>5</th>\n",
       "      <td>BRA_ANDROID_MALE_0_18</td>\n",
       "      <td>34.805861</td>\n",
       "      <td>B</td>\n",
       "      <td>Wide_Range_Model</td>\n",
       "    </tr>\n",
       "    <tr>\n",
       "      <th>28</th>\n",
       "      <td>BRA_ANDROID_MALE_17</td>\n",
       "      <td>37.157895</td>\n",
       "      <td>A</td>\n",
       "      <td>One-One_Model</td>\n",
       "    </tr>\n",
       "  </tbody>\n",
       "</table>\n",
       "</div>"
      ],
      "text/plain": [
       "    CUSTOMERS_LEVEL_BASED      PRICE SEGMENT             Option\n",
       "8   BRA_ANDROID_MALE_0_18  34.805861       B  Young_Based_Model\n",
       "5   BRA_ANDROID_MALE_0_18  34.805861       B   Wide_Range_Model\n",
       "28    BRA_ANDROID_MALE_17  37.157895       A      One-One_Model"
      ]
     },
     "execution_count": 17,
     "metadata": {},
     "output_type": "execute_result"
    }
   ],
   "source": [
    "expected_price(\"BRA\", \"ANDROID\", \"MALE\", 17)"
   ]
  },
  {
   "cell_type": "code",
   "execution_count": 18,
   "id": "9a93f41b",
   "metadata": {
    "execution": {
     "iopub.execute_input": "2023-03-19T08:06:45.330379Z",
     "iopub.status.busy": "2023-03-19T08:06:45.329913Z",
     "iopub.status.idle": "2023-03-19T08:06:45.349717Z",
     "shell.execute_reply": "2023-03-19T08:06:45.348119Z"
    },
    "papermill": {
     "duration": 0.035168,
     "end_time": "2023-03-19T08:06:45.352449",
     "exception": false,
     "start_time": "2023-03-19T08:06:45.317281",
     "status": "completed"
    },
    "tags": []
   },
   "outputs": [
    {
     "data": {
      "text/html": [
       "<div>\n",
       "<style scoped>\n",
       "    .dataframe tbody tr th:only-of-type {\n",
       "        vertical-align: middle;\n",
       "    }\n",
       "\n",
       "    .dataframe tbody tr th {\n",
       "        vertical-align: top;\n",
       "    }\n",
       "\n",
       "    .dataframe thead th {\n",
       "        text-align: right;\n",
       "    }\n",
       "</style>\n",
       "<table border=\"1\" class=\"dataframe\">\n",
       "  <thead>\n",
       "    <tr style=\"text-align: right;\">\n",
       "      <th></th>\n",
       "      <th>CUSTOMERS_LEVEL_BASED</th>\n",
       "      <th>PRICE</th>\n",
       "      <th>SEGMENT</th>\n",
       "      <th>Option</th>\n",
       "    </tr>\n",
       "  </thead>\n",
       "  <tbody>\n",
       "    <tr>\n",
       "      <th>64</th>\n",
       "      <td>DEU_IOS_MALE_19_21</td>\n",
       "      <td>49.0</td>\n",
       "      <td>A</td>\n",
       "      <td>Young_Based_Model</td>\n",
       "    </tr>\n",
       "    <tr>\n",
       "      <th>48</th>\n",
       "      <td>DEU_IOS_MALE_19_23</td>\n",
       "      <td>39.0</td>\n",
       "      <td>A</td>\n",
       "      <td>Wide_Range_Model</td>\n",
       "    </tr>\n",
       "    <tr>\n",
       "      <th>0</th>\n",
       "      <td>DEU_IOS_MALE_21</td>\n",
       "      <td>No Match</td>\n",
       "      <td>No Match</td>\n",
       "      <td>One-One_Model</td>\n",
       "    </tr>\n",
       "  </tbody>\n",
       "</table>\n",
       "</div>"
      ],
      "text/plain": [
       "   CUSTOMERS_LEVEL_BASED     PRICE   SEGMENT             Option\n",
       "64    DEU_IOS_MALE_19_21      49.0         A  Young_Based_Model\n",
       "48    DEU_IOS_MALE_19_23      39.0         A   Wide_Range_Model\n",
       "0        DEU_IOS_MALE_21  No Match  No Match      One-One_Model"
      ]
     },
     "execution_count": 18,
     "metadata": {},
     "output_type": "execute_result"
    }
   ],
   "source": [
    "expected_price(\"DEU\", \"IOS\", \"MALE\", 21)"
   ]
  },
  {
   "cell_type": "code",
   "execution_count": 19,
   "id": "80bed305",
   "metadata": {
    "execution": {
     "iopub.execute_input": "2023-03-19T08:06:45.377168Z",
     "iopub.status.busy": "2023-03-19T08:06:45.376718Z",
     "iopub.status.idle": "2023-03-19T08:06:45.394887Z",
     "shell.execute_reply": "2023-03-19T08:06:45.393672Z"
    },
    "papermill": {
     "duration": 0.033807,
     "end_time": "2023-03-19T08:06:45.397760",
     "exception": false,
     "start_time": "2023-03-19T08:06:45.363953",
     "status": "completed"
    },
    "tags": []
   },
   "outputs": [
    {
     "data": {
      "text/html": [
       "<div>\n",
       "<style scoped>\n",
       "    .dataframe tbody tr th:only-of-type {\n",
       "        vertical-align: middle;\n",
       "    }\n",
       "\n",
       "    .dataframe tbody tr th {\n",
       "        vertical-align: top;\n",
       "    }\n",
       "\n",
       "    .dataframe thead th {\n",
       "        text-align: right;\n",
       "    }\n",
       "</style>\n",
       "<table border=\"1\" class=\"dataframe\">\n",
       "  <thead>\n",
       "    <tr style=\"text-align: right;\">\n",
       "      <th></th>\n",
       "      <th>CUSTOMERS_LEVEL_BASED</th>\n",
       "      <th>PRICE</th>\n",
       "      <th>SEGMENT</th>\n",
       "      <th>Option</th>\n",
       "    </tr>\n",
       "  </thead>\n",
       "  <tbody>\n",
       "    <tr>\n",
       "      <th>0</th>\n",
       "      <td>DEU_IOS_FEMALE_19_21</td>\n",
       "      <td>No Match</td>\n",
       "      <td>No Match</td>\n",
       "      <td>Young_Based_Model</td>\n",
       "    </tr>\n",
       "    <tr>\n",
       "      <th>44</th>\n",
       "      <td>DEU_IOS_FEMALE_19_23</td>\n",
       "      <td>34.0</td>\n",
       "      <td>C</td>\n",
       "      <td>Wide_Range_Model</td>\n",
       "    </tr>\n",
       "    <tr>\n",
       "      <th>0</th>\n",
       "      <td>DEU_IOS_FEMALE_21</td>\n",
       "      <td>No Match</td>\n",
       "      <td>No Match</td>\n",
       "      <td>One-One_Model</td>\n",
       "    </tr>\n",
       "  </tbody>\n",
       "</table>\n",
       "</div>"
      ],
      "text/plain": [
       "   CUSTOMERS_LEVEL_BASED     PRICE   SEGMENT             Option\n",
       "0   DEU_IOS_FEMALE_19_21  No Match  No Match  Young_Based_Model\n",
       "44  DEU_IOS_FEMALE_19_23      34.0         C   Wide_Range_Model\n",
       "0      DEU_IOS_FEMALE_21  No Match  No Match      One-One_Model"
      ]
     },
     "execution_count": 19,
     "metadata": {},
     "output_type": "execute_result"
    }
   ],
   "source": [
    "expected_price(\"DEU\", \"IOS\", \"FEMALE\", 21)"
   ]
  }
 ],
 "metadata": {
  "kernelspec": {
   "display_name": "Python 3",
   "language": "python",
   "name": "python3"
  },
  "language_info": {
   "codemirror_mode": {
    "name": "ipython",
    "version": 3
   },
   "file_extension": ".py",
   "mimetype": "text/x-python",
   "name": "python",
   "nbconvert_exporter": "python",
   "pygments_lexer": "ipython3",
   "version": "3.7.12"
  },
  "papermill": {
   "default_parameters": {},
   "duration": 15.908433,
   "end_time": "2023-03-19T08:06:46.334889",
   "environment_variables": {},
   "exception": null,
   "input_path": "__notebook__.ipynb",
   "output_path": "__notebook__.ipynb",
   "parameters": {},
   "start_time": "2023-03-19T08:06:30.426456",
   "version": "2.4.0"
  }
 },
 "nbformat": 4,
 "nbformat_minor": 5
}
